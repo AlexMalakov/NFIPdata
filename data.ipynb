{
 "cells": [
  {
   "cell_type": "code",
   "execution_count": null,
   "metadata": {},
   "outputs": [],
   "source": [
    "import rasterio\n",
    "from rasterio.plot import show\n",
    "from rasterio.mask import mask\n",
    "import numpy as np\n",
    "import geopandas\n",
    "import pandas\n",
    "from shapely.geometry import box\n",
    "from rasterio.features import shapes\n",
    "from shapely.geometry import shape, Point, MultiPolygon, Polygon\n",
    "import matplotlib.pyplot as plt\n",
    "from scipy.spatial.distance import cdist\n",
    "from geopy.geocoders import Nominatim\n",
    "from datetime import datetime, timedelta\n",
    "import requests\n",
    "import cenpy\n",
    "import statsmodels.api as sm\n",
    "from scipy.stats import boxcox_normmax, boxcox\n",
    "\n",
    "import sys\n",
    "import urllib.request\n",
    "import json\n",
    "import math\n",
    "import ssl"
   ]
  },
  {
   "cell_type": "markdown",
   "metadata": {},
   "source": [
    "# fips and census blocks"
   ]
  },
  {
   "cell_type": "code",
   "execution_count": null,
   "metadata": {},
   "outputs": [],
   "source": [
    "#FIPS:\n",
    "\n",
    "fips = pandas.read_csv(\"fips.csv\")"
   ]
  },
  {
   "cell_type": "code",
   "execution_count": null,
   "metadata": {},
   "outputs": [],
   "source": [
    "fl = geopandas.read_file(\"shp/USA Census Block Group Boundaries selection.shp\")\n",
    "fl.plot()"
   ]
  },
  {
   "cell_type": "markdown",
   "metadata": {},
   "source": [
    "# NOAA qpe"
   ]
  },
  {
   "cell_type": "code",
   "execution_count": null,
   "metadata": {},
   "outputs": [],
   "source": [
    "#load noaa\n",
    "with rasterio.open(\"noaa_2019_precip/nws_precip_ytd_20200101_conus.tif\") as dataset:\n",
    "    bord = dataset.read()\n",
    "\n",
    "    a = [x for x in dataset.sample([(871,696)])]\n",
    "\n",
    "    transform, width, height = rasterio.warp.calculate_default_transform(dataset.crs, fl.crs, dataset.width, dataset.height, *dataset.bounds)\n",
    "    kwargs = dataset.meta.copy()\n",
    "    kwargs.update({'crs':fl.crs, 'transform':transform, 'width':width, 'height':height})\n",
    "\n",
    "    dst_shape = (4,881,1121)\n",
    "    dest = np.zeros(dst_shape)\n",
    "\n",
    "    with rasterio.open('reprojected_noaa_precip_2019.tif', 'w', **kwargs) as output:\n",
    "        for i in range(1, dataset.count + 1):\n",
    "            rasterio.warp.reproject(source = rasterio.band(dataset, i), destination= rasterio.band(output,i), src_transform=dataset.transform, src_crs=dataset.crs, dst_transform=transform, dst_crs=fl.crs, resampling = rasterio.warp.Resampling.nearest)\n"
   ]
  },
  {
   "cell_type": "code",
   "execution_count": null,
   "metadata": {},
   "outputs": [],
   "source": [
    "#reproject noaa to be usable\n",
    "reprojected_noaa = []\n",
    "\n",
    "with rasterio.open(\"reprojected_noaa_precip_2019.tif\") as dataset:\n",
    "    reprojected_noaa = dataset.read()\n",
    "\n",
    "    crib = reprojected_noaa[0][0][0]\n",
    "    print(crib)\n",
    "\n",
    "    maxx = np.max(reprojected_noaa)\n",
    "    for band in range(len(reprojected_noaa)):\n",
    "        for row in range(len(reprojected_noaa[band])):\n",
    "            for col in range(len(reprojected_noaa[band][row])):\n",
    "                if reprojected_noaa[band][row][col] < 0:\n",
    "                    reprojected_noaa[band][row][col] = 0\n",
    "                else:\n",
    "                    reprojected_noaa[band][row][col] = reprojected_noaa[band][row][col]/maxx\n",
    "\n",
    "    print(np.max(reprojected_noaa), np.min(reprojected_noaa))"
   ]
  },
  {
   "cell_type": "code",
   "execution_count": null,
   "metadata": {},
   "outputs": [],
   "source": [
    "show(reprojected_noaa[0])"
   ]
  },
  {
   "cell_type": "code",
   "execution_count": null,
   "metadata": {},
   "outputs": [],
   "source": [
    "show(reprojected_noaa[1])"
   ]
  },
  {
   "cell_type": "code",
   "execution_count": null,
   "metadata": {},
   "outputs": [],
   "source": [
    "show(reprojected_noaa[2])"
   ]
  },
  {
   "cell_type": "code",
   "execution_count": null,
   "metadata": {},
   "outputs": [],
   "source": [
    "show(reprojected_noaa[3])"
   ]
  },
  {
   "cell_type": "code",
   "execution_count": null,
   "metadata": {},
   "outputs": [],
   "source": [
    "show(reprojected_noaa)"
   ]
  },
  {
   "cell_type": "markdown",
   "metadata": {},
   "source": [
    "# 2019 Claims"
   ]
  },
  {
   "cell_type": "code",
   "execution_count": null,
   "metadata": {},
   "outputs": [],
   "source": [
    "#load claims\n",
    "claims_2019 = pandas.read_csv(\"2019acsclaims.csv\")\n",
    "\n",
    "new_claims_2019 = []\n",
    "\n",
    "#number of data points used\n",
    "maxx = 10000\n",
    "for claim in claims_2019.iterrows():\n",
    "\n",
    "    dic = claim[1].to_dict()\n",
    "    if math.isnan(dic[\"ACS2019_Census_Block_Group\"]) or dic[\"Net Building Payment Amount\"] < 0 or dic[\"Net Contents Payment Amount\"] < 0:\n",
    "        continue\n",
    "\n",
    "    if dic[\"Occupancy Type\"] != 1 and dic[\"Occupancy Type\"] != 11:\n",
    "        continue\n",
    "\n",
    "    maxx -= 1\n",
    "    if maxx < 0:\n",
    "        break\n",
    "\n",
    "    new_claims_2019.append(claim[1].to_dict())\n",
    "        \n"
   ]
  },
  {
   "cell_type": "code",
   "execution_count": null,
   "metadata": {},
   "outputs": [],
   "source": [
    "# add geometry to claims for geospacial join\n",
    "counties = [pandas.DataFrame(fl)[pandas.DataFrame(fl)[\"FIPS\"] == str(int(claim[\"ACS2019_Census_Block_Group\"]))][\"geometry\"] for claim in new_claims_2019]\n",
    "\n",
    "for i in range(len(new_claims_2019)):\n",
    "    new_claims_2019[i][\"geometry\"] = counties[i]\n"
   ]
  },
  {
   "cell_type": "markdown",
   "metadata": {},
   "source": [
    "### merging noaa and claims"
   ]
  },
  {
   "cell_type": "code",
   "execution_count": null,
   "metadata": {},
   "outputs": [],
   "source": [
    "#geospacial join\n",
    "with rasterio.open(\"reprojected_noaa_precip_2019.tif\") as dataset:\n",
    "\n",
    "    val = dataset.read(1)[0][0]\n",
    "\n",
    "    for i in range(len(new_claims_2019)):\n",
    "\n",
    "        try:\n",
    "            val = mask(dataset, new_claims_2019[i][\"geometry\"], crop = False)\n",
    "\n",
    "            exper = np.any(val[0] != crib)\n",
    "\n",
    "            sum = 0\n",
    "            for iter in val[0]:\n",
    "                for iterr in iter:\n",
    "                    for iterrr in iterr:\n",
    "                        if iterrr != crib:\n",
    "                            sum += iterrr/val\n",
    "\n",
    "            \n",
    "            \n",
    "            new_claims_2019[i][\"raster value\"] = sum/list(new_claims_2019[i][\"geometry\"])[0].area\n",
    "\n",
    "        except:\n",
    "            new_claims_2019[i][\"raster value\"] = -1\n",
    "\n"
   ]
  },
  {
   "cell_type": "markdown",
   "metadata": {},
   "source": [
    "## census"
   ]
  },
  {
   "cell_type": "code",
   "execution_count": null,
   "metadata": {},
   "outputs": [],
   "source": [
    "#use to create census_data for the first time, once the dataset is created, save it locally using below code and load from below below code\n",
    "\n",
    "def pullCensus(query):\n",
    "    try:\n",
    "        return cenpy.products.ACS(2019).from_state(\"Florida\", variables=[query])\n",
    "    except:\n",
    "        print(\"failed at\",query)\n",
    "        return pullCensus(query)\n",
    "\n",
    "census_data = {}\n",
    "census_queries = [\"B19013_001E\", \"B19101A_001E\", \"B06009_001E\",\"B06009_004E\", \"B07001_002E\",\"B07001_003E\",\"B07001_013E\",\"B07001_014E\",\"B07001_015E\",\"B07001_016E\",\"B05003G_013E\",\"B03002_012E\",\"B02001_002E\",\"B02001_003E\",\"B02001_005E\",\"B02001_006E\",\"B21001_002E\"]\n",
    "census_keys = [\"income\",\"median\",\"total\",\"with undergrad degree\",\"age 1-4\",\"age 5-17\",\"age 60-64\",\"age 65-69\",\"age 70-74\",\"age 75+\",\"#women\",\"# latino\",\"# white\",\"# black\",\"# asian\",\"# islander\",\"# vets\"]\n",
    "\n",
    "for i in range(len(census_queries)):\n",
    "    census_data[census_keys[i]] = pullCensus(census_queries[i])\n"
   ]
  },
  {
   "cell_type": "code",
   "execution_count": null,
   "metadata": {},
   "outputs": [],
   "source": [
    "#save\n",
    "for key in census_data.keys():\n",
    "    tempdf = pandas.DataFrame(census_data[key])\n",
    "    tempdf.to_csv(\"/census_csvs/\" + key + \"_cen2019.csv\")\n"
   ]
  },
  {
   "cell_type": "code",
   "execution_count": null,
   "metadata": {},
   "outputs": [],
   "source": [
    "#load\n",
    "census_data = {}\n",
    "for key in census_keys:\n",
    "    tempdf = pandas.read_csv(\"/census_csvs/\" + key + \"_cen2019.csv\")\n",
    "    census_data[key] = tempdf\n"
   ]
  },
  {
   "cell_type": "code",
   "execution_count": null,
   "metadata": {},
   "outputs": [],
   "source": [
    "#merge census with claims\n",
    "for i in range(len(census_keys)):\n",
    "    census_var = census_data[census_keys[i]]\n",
    "    counties = [census_var[census_var[\"GEOID\"] == int(claim[\"ACS2019_Census_Block_Group\"])//10][census_queries[i]] for claim in new_claims_2019]\n",
    "    for j in range(len(new_claims_2019)):\n",
    "        new_claims_2019[j][census_keys[i]] = counties[j].iloc[0]"
   ]
  },
  {
   "cell_type": "markdown",
   "metadata": {},
   "source": [
    "### correlation plots"
   ]
  },
  {
   "cell_type": "code",
   "execution_count": null,
   "metadata": {},
   "outputs": [],
   "source": [
    "reduced_data = [{\n",
    "    claim[\"Total Building Insurance Coverage\"], # 0\n",
    "    claim[\"Total Contents Insurance Coverage\"], # 1\n",
    "    claim[\"Building Damage Amount\"], # 2\n",
    "    claim[\"Contents Damage Amount\"], # 3\n",
    "    claim[\"Building Property Value\"], # 4\n",
    "    claim[\"Contents Property Value\"], # 5\n",
    "    claim[\"Net Building Payment Amount\"], # 6\n",
    "    claim[\"Net Contents Payment Amount\"], # 7\n",
    "    claim[\"Number Of Floors In The Insured Building\"], # 8\n",
    "    claim[\"Building Replacement Cost\"], # 9\n",
    "    claim[\"Contents Replacement Cost\"], # 10\n",
    "    claim[\"income\"], # 11\n",
    "    claim[\"median\"], # 12\n",
    "    claim[\"raster value\"], # 13\n",
    "    claim[\"total\"], # 14\n",
    "    claim[\"with undergrad degree\"], # 15\n",
    "    claim[\"age 1-4\"], # 16\n",
    "    claim[\"age 5-17\"], # 17\n",
    "    claim[\"age 60-64\"], # 18\n",
    "    claim[\"age 65-69\"], # 19\n",
    "    claim[\"age 70-74\"], # 20\n",
    "    claim[\"age 75+\"], # 21\n",
    "    claim[\"#women\"], # 22\n",
    "    claim[\"# latino\"], # 23\n",
    "    claim[\"# white\"], # 24\n",
    "    claim[\"# black\"], # 25\n",
    "    claim[\"# asian\"], # 26\n",
    "    claim[\"# islander\"], # 27\n",
    "    claim[\"# vets\"], # 28\n",
    "\n",
    "    } for claim in new_claims_2019]\n",
    "\n",
    "reduced_data = pandas.DataFrame(reduced_data)\n",
    "plt.matshow(reduced_data.corr())\n",
    "\n",
    "plt.xlabel('variable #')\n",
    "plt.ylabel('variable #')\n",
    "plt.title('correlation matrix of all used variables')\n",
    "\n",
    "cb = plt.colorbar()\n",
    "cb.ax.tick_params(labelsize=14)\n"
   ]
  },
  {
   "cell_type": "code",
   "execution_count": null,
   "metadata": {},
   "outputs": [],
   "source": [
    "plt.matshow(reduced_data.cov())\n",
    "cb = plt.colorbar()\n",
    "cb.ax.tick_params(labelsize=14)\n",
    "\n",
    "plt.xlabel('variable #')\n",
    "plt.ylabel('variable #')\n",
    "plt.title('cov matrix of data')"
   ]
  },
  {
   "cell_type": "markdown",
   "metadata": {},
   "source": [
    "### outliers"
   ]
  },
  {
   "cell_type": "code",
   "execution_count": null,
   "metadata": {},
   "outputs": [],
   "source": [
    "y = [claim[\"Net Building Payment Amount\"] for claim in new_claims_2019]\n",
    "sorted_y = np.sort(y)\n",
    "probs = np.arange(1, len(sorted_y) + 1) / len(sorted_y)\n",
    "plt.plot(sorted_y, probs, marker = 'o')\n",
    "\n",
    "plt.xlabel('Net Building Payment Amount')\n",
    "plt.ylabel('Probability within dataset')\n",
    "plt.title('Distribution of building payment amount')\n",
    "plt.grid(True)\n"
   ]
  },
  {
   "cell_type": "code",
   "execution_count": null,
   "metadata": {},
   "outputs": [],
   "source": [
    "#filter outliers\n",
    "data_save = new_claims_2019.copy()\n",
    "copy_2019 = []\n",
    "for claim in new_claims_2019:\n",
    "    if claim[\"Net Building Payment Amount\"] <= 250000:\n",
    "        copy_2019.append(claim)\n",
    "\n",
    "new_claims_2019 = copy_2019\n",
    "print(len(new_claims_2019))"
   ]
  },
  {
   "cell_type": "code",
   "execution_count": null,
   "metadata": {},
   "outputs": [],
   "source": [
    "#all variables\n",
    "x = [[\n",
    "    claim[\"Building Damage Amount\"],\n",
    "    claim[\"Contents Damage Amount\"],\n",
    "    claim[\"Building Property Value\"],\n",
    "    claim[\"Contents Property Value\"],\n",
    "\n",
    "    (1 if claim[\"Cause of Damage Code\"] == 1.0 else 0),\n",
    "    (1 if claim[\"Cause of Damage Code\"] == 2.0 else 0),\n",
    "    (1 if claim[\"Cause of Damage Code\"] == 3.0 else 0),\n",
    "    (1 if claim[\"Cause of Damage Code\"] == 4.0 else 0),\n",
    "    (1 if claim[\"Cause of Damage Code\"] == 7.0 else 0),\n",
    "    (1 if claim[\"Cause of Damage Code\"] == 8.0 else 0),\n",
    "\n",
    "    (1 if claim[\"Number Of Floors In The Insured Building\"] == 1.0 else 0),\n",
    "    (1 if claim[\"Number Of Floors In The Insured Building\"] == 2.0 else 0),\n",
    "    (1 if claim[\"Number Of Floors In The Insured Building\"] == 3.0 else 0),\n",
    "    (1 if claim[\"Number Of Floors In The Insured Building\"] > 3.0 else 0),\n",
    "\n",
    "    claim[\"Building Replacement Cost\"],\n",
    "    claim[\"Contents Replacement Cost\"],\n",
    "    claim[\"income\"],\n",
    "    claim[\"median\"],\n",
    "    claim[\"raster value\"],\n",
    "    claim[\"total\"],\n",
    "    claim[\"with undergrad degree\"],\n",
    "    claim[\"age 1-4\"],\n",
    "    claim[\"age 5-17\"],\n",
    "    claim[\"age 60-64\"],\n",
    "    claim[\"age 65-69\"],\n",
    "    claim[\"age 70-74\"],\n",
    "    claim[\"age 75+\"],\n",
    "    claim[\"#women\"],\n",
    "    claim[\"# latino\"],\n",
    "    claim[\"# white\"],\n",
    "    claim[\"# black\"],\n",
    "    claim[\"# asian\"],\n",
    "    claim[\"# islander\"],\n",
    "    claim[\"# vets\"],\n",
    "    ] for claim in new_claims_2019]\n",
    "\n",
    "for i in range(len(x)):\n",
    "    for j in range(len(x[i])):\n",
    "        if math.isnan(x[i][j]):\n",
    "            x[i][j] = -1\n",
    "\n",
    "y = [claim[\"Net Building Payment Amount\"] for claim in new_claims_2019]\n",
    "x_names = [\"Building Damage Amount\", \"Contents Damage Amount\", \"Building Property Value\", \"Contents Property Value\",\"damage code 1\",\"damage code 2\", \"damage code 3\", \"damage code 4\", \"damage code 7\", \"damage code 8\",\"1 floor\", \"2 floors\", \"3 floors\", \"4+ floors\", \"building replacement cost\", \"contents replacement cost\", \"income\",\"median\",\"precip\",\"total population\", \"undergrad degrees\", \"1-4\",\"5-17\",\"60-64\",\"65-69\",\"70-74\",\"75+\",\"women\",\"latino\",\"white\",\"black\",\"asian\",\"islander\",\"veteran\"]\n",
    "\n",
    "model = sm.OLS(y,x).fit()\n",
    "\n",
    "print(model.summary(xname=x_names))\n"
   ]
  },
  {
   "cell_type": "code",
   "execution_count": null,
   "metadata": {
    "vscode": {
     "languageId": "ruby"
    }
   },
   "outputs": [],
   "source": [
    "#some variables\n",
    "x = [[\n",
    "    claim[\"Total Building Insurance Coverage\"],\n",
    "    claim[\"Total Contents Insurance Coverage\"],\n",
    "    (1 if claim[\"Cause of Damage Code\"] == 1.0 else 0),\n",
    "    (1 if claim[\"Cause of Damage Code\"] == 2.0 else 0),\n",
    "    (1 if claim[\"Cause of Damage Code\"] == 3.0 else 0),\n",
    "    (1 if claim[\"Cause of Damage Code\"] == 4.0 else 0),\n",
    "    (1 if claim[\"Cause of Damage Code\"] == 0.0 else 0),\n",
    "\n",
    "    (1 if claim[\"Number Of Floors In The Insured Building\"] == 1.0 else 0),\n",
    "    (1 if claim[\"Number Of Floors In The Insured Building\"] == 2.0 else 0),\n",
    "    (1 if claim[\"Number Of Floors In The Insured Building\"] == 3.0 else 0),\n",
    "    (1 if claim[\"Number Of Floors In The Insured Building\"] > 3.0 else 0),\n",
    "\n",
    "    claim[\"Building Replacement Cost\"],\n",
    "    claim[\"Contents Replacement Cost\"],\n",
    "    claim[\"raster value\"], \n",
    "\n",
    "    claim[\"Building Property Value\"]**.5,\n",
    "    claim[\"Contents Property Value\"]**.5,\n",
    "    (math.log(claim[\"income\"])) if claim[\"income\"] > 0 else 0,\n",
    "    (math.log(claim[\"median\"])) if claim[\"median\"] > 0 else 0,\n",
    "    (math.log(claim[\"raster value\"])) if claim[\"raster value\"] > 0 else 0,\n",
    "\n",
    "    claim['with undergrad degree'],\n",
    "    claim[\"age 1-4\"] + claim[\"age 5-17\"],\n",
    "    claim[\"age 60-64\"] + claim[\"age 65-69\"] + claim[\"age 70-74\"] + claim[\"age 75+\"],\n",
    "    claim[\"#women\"], #\n",
    "    claim[\"# latino\"] + claim[\"# black\"],\n",
    "    claim[\"# vets\"] ** .33, \n",
    "\n",
    "    ] for claim in new_claims_2019]\n",
    "\n",
    "for i in range(len(x)):\n",
    "    for j in range(len(x[i])):\n",
    "        if math.isnan(x[i][j]):\n",
    "            x[i][j] = -1\n",
    "\n",
    "y = [claim[\"Net Building Payment Amount\"] for claim in new_claims_2019]\n",
    "x_names = [\"Total Building Insurance\", \"Total Contents Insurance\", \"tidal overflow [bool]\", \"stream/lake/river overflow [bool]\", \"alluvial overflow[bool]\", \"rainfall/snow accumulation[bool]\", \"other cause [bool]\", \"has 1 floor [bool]\", \"has 2 floors [bool]\", \"has 3 floors [bool]\", \"has >3 floors [bool]\", \"building replacement cost\", \"contents replacement cost\", \"perceptation\", \"sqrt building property value\", \"sqrt contents property value\", \"log average income\", \"log median property\", \"log percipitation\", \"#undergrad\", \"#children\", \"#elderly\",\"#women\",\"#minorities\",\"#vets\"]\n",
    "\n",
    "model = sm.OLS(y,x).fit()\n",
    "\n",
    "print(model.summary(xname= x_names))"
   ]
  },
  {
   "cell_type": "markdown",
   "metadata": {},
   "source": [
    "### tukey"
   ]
  },
  {
   "cell_type": "code",
   "execution_count": null,
   "metadata": {},
   "outputs": [],
   "source": [
    "query = \"# white\"\n",
    "test = [int(claim[query]) for claim in new_claims_2019 if (not math.isnan(claim[query]) and claim[query] >= 1)]\n",
    "lam = boxcox_normmax(test)\n",
    "transformed = boxcox(test, lmbda= lam)\n",
    "\n",
    "print(\"lambda\", lam)"
   ]
  },
  {
   "cell_type": "markdown",
   "metadata": {},
   "source": [
    "## Some Models 2019"
   ]
  },
  {
   "cell_type": "code",
   "execution_count": null,
   "metadata": {},
   "outputs": [],
   "source": [
    "def MAPE(y_real, pred): \n",
    "    temp_real = np.array(y_real.copy())\n",
    "    temp_pred = np.array(pred.copy())\n",
    "    return np.mean(np.abs(temp_real - temp_pred) / temp_real) * 100"
   ]
  },
  {
   "cell_type": "code",
   "execution_count": null,
   "metadata": {},
   "outputs": [],
   "source": [
    "from sklearn.ensemble import RandomForestRegressor\n",
    "from sklearn.metrics import mean_squared_error\n",
    "\n",
    "training, labels = x,y\n",
    "forest = RandomForestRegressor(max_depth=20, n_estimators=1000).fit(x,y)\n",
    "prediction = forest.predict(training)\n",
    "mse = mean_squared_error(prediction, labels)\n",
    "print(mse)"
   ]
  },
  {
   "cell_type": "code",
   "execution_count": null,
   "metadata": {},
   "outputs": [],
   "source": [
    "prep_y = []\n",
    "prep_pred = []\n",
    "\n",
    "for i in range(len(y)):\n",
    "    if y[i] < 1:\n",
    "        continue\n",
    "    prep_y.append(y[i])\n",
    "    prep_pred.append(prediction[i])\n",
    "\n",
    "print(MAPE(prep_y,prep_pred))"
   ]
  },
  {
   "cell_type": "code",
   "execution_count": null,
   "metadata": {},
   "outputs": [],
   "source": [
    "from sklearn.preprocessing import PolynomialFeatures\n",
    "from sklearn.linear_model import LinearRegression\n",
    "\n",
    "training, labels = x,y\n",
    "poly = PolynomialFeatures(degree=2, include_bias=True)\n",
    "polyx = poly.fit_transform(training)\n",
    "\n",
    "linreg = LinearRegression().fit(polyx,labels)\n",
    "prediction = linreg.predict(polyx)\n",
    "mse = mean_squared_error(prediction, labels)\n",
    "print(mse)"
   ]
  },
  {
   "cell_type": "code",
   "execution_count": null,
   "metadata": {},
   "outputs": [],
   "source": [
    "prep_y = []\n",
    "prep_pred = []\n",
    "\n",
    "for i in range(len(y)):\n",
    "    if y[i] < 1:\n",
    "        continue\n",
    "    prep_y.append(y[i])\n",
    "    prep_pred.append(prediction[i])\n",
    "\n",
    "print(MAPE(prep_y,prep_pred))"
   ]
  }
 ],
 "metadata": {
  "kernelspec": {
   "display_name": "Python 3",
   "language": "python",
   "name": "python3"
  },
  "language_info": {
   "codemirror_mode": {
    "name": "ipython",
    "version": 3
   },
   "file_extension": ".py",
   "mimetype": "text/x-python",
   "name": "python",
   "nbconvert_exporter": "python",
   "pygments_lexer": "ipython3",
   "version": "3.11.7"
  }
 },
 "nbformat": 4,
 "nbformat_minor": 2
}
